{
 "cells": [
  {
   "cell_type": "code",
   "execution_count": 1,
   "id": "5cadd7f7",
   "metadata": {},
   "outputs": [
    {
     "name": "stdout",
     "output_type": "stream",
     "text": [
      "Requirement already satisfied: flask in c:\\users\\rajap\\anaconda3\\lib\\site-packages (2.2.5)\n",
      "Requirement already satisfied: flask_sqlalchemy in c:\\users\\rajap\\anaconda3\\lib\\site-packages (3.1.1)\n",
      "Requirement already satisfied: flask_ngrok in c:\\users\\rajap\\anaconda3\\lib\\site-packages (0.0.25)\n",
      "Requirement already satisfied: Werkzeug>=2.2.2 in c:\\users\\rajap\\anaconda3\\lib\\site-packages (from flask) (2.2.3)\n",
      "Requirement already satisfied: Jinja2>=3.0 in c:\\users\\rajap\\anaconda3\\lib\\site-packages (from flask) (3.1.3)\n",
      "Requirement already satisfied: itsdangerous>=2.0 in c:\\users\\rajap\\anaconda3\\lib\\site-packages (from flask) (2.0.1)\n",
      "Requirement already satisfied: click>=8.0 in c:\\users\\rajap\\anaconda3\\lib\\site-packages (from flask) (8.1.7)\n",
      "Requirement already satisfied: sqlalchemy>=2.0.16 in c:\\users\\rajap\\anaconda3\\lib\\site-packages (from flask_sqlalchemy) (2.0.25)\n",
      "Requirement already satisfied: requests in c:\\users\\rajap\\anaconda3\\lib\\site-packages (from flask_ngrok) (2.31.0)\n",
      "Requirement already satisfied: colorama in c:\\users\\rajap\\anaconda3\\lib\\site-packages (from click>=8.0->flask) (0.4.6)\n",
      "Requirement already satisfied: MarkupSafe>=2.0 in c:\\users\\rajap\\anaconda3\\lib\\site-packages (from Jinja2>=3.0->flask) (2.1.3)\n",
      "Requirement already satisfied: typing-extensions>=4.6.0 in c:\\users\\rajap\\anaconda3\\lib\\site-packages (from sqlalchemy>=2.0.16->flask_sqlalchemy) (4.9.0)\n",
      "Requirement already satisfied: greenlet!=0.4.17 in c:\\users\\rajap\\anaconda3\\lib\\site-packages (from sqlalchemy>=2.0.16->flask_sqlalchemy) (3.0.1)\n",
      "Requirement already satisfied: charset-normalizer<4,>=2 in c:\\users\\rajap\\anaconda3\\lib\\site-packages (from requests->flask_ngrok) (2.0.4)\n",
      "Requirement already satisfied: idna<4,>=2.5 in c:\\users\\rajap\\anaconda3\\lib\\site-packages (from requests->flask_ngrok) (3.4)\n",
      "Requirement already satisfied: urllib3<3,>=1.21.1 in c:\\users\\rajap\\anaconda3\\lib\\site-packages (from requests->flask_ngrok) (2.0.7)\n",
      "Requirement already satisfied: certifi>=2017.4.17 in c:\\users\\rajap\\anaconda3\\lib\\site-packages (from requests->flask_ngrok) (2024.2.2)\n"
     ]
    }
   ],
   "source": [
    "!pip install flask flask_sqlalchemy flask_ngrok\n"
   ]
  },
  {
   "cell_type": "code",
   "execution_count": 2,
   "id": "e6c615ee",
   "metadata": {},
   "outputs": [
    {
     "name": "stdout",
     "output_type": "stream",
     "text": [
      "Old database deleted.\n"
     ]
    }
   ],
   "source": [
    "import os\n",
    "if os.path.exists(\"ems.db\"):\n",
    "    os.remove(\"ems.db\")\n",
    "    print(\"Old database deleted.\")\n",
    "else:\n",
    "    print(\"No existing database found.\")\n"
   ]
  },
  {
   "cell_type": "code",
   "execution_count": 3,
   "id": "36d86e82",
   "metadata": {},
   "outputs": [],
   "source": [
    "from flask import Flask, request, redirect, render_template_string\n",
    "import sqlite3\n",
    "\n",
    "app = Flask(__name__)\n",
    "\n"
   ]
  },
  {
   "cell_type": "code",
   "execution_count": null,
   "id": "3e713f0f",
   "metadata": {},
   "outputs": [],
   "source": []
  }
 ],
 "metadata": {
  "kernelspec": {
   "display_name": "Python 3 (ipykernel)",
   "language": "python",
   "name": "python3"
  },
  "language_info": {
   "codemirror_mode": {
    "name": "ipython",
    "version": 3
   },
   "file_extension": ".py",
   "mimetype": "text/x-python",
   "name": "python",
   "nbconvert_exporter": "python",
   "pygments_lexer": "ipython3",
   "version": "3.11.7"
  }
 },
 "nbformat": 4,
 "nbformat_minor": 5
}
